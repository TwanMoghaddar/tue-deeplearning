{
  "cells": [
    {
      "cell_type": "markdown",
      "metadata": {
        "id": "a4ec9a11-3515-40aa-97ac-73c249df560e"
      },
      "source": [
        "# Group Number:\n",
        "# Student 1:\n",
        "# Student 2:\n",
        "# Student 3:"
      ],
      "id": "a4ec9a11-3515-40aa-97ac-73c249df560e"
    },
    {
      "cell_type": "markdown",
      "metadata": {
        "id": "a8c200a7-b3ab-4c9a-bcf8-320271c040f3"
      },
      "source": [
        "In case you are using google colab, uncomment the following cell, and modify the ```notebook_dir``` variable to contain the directory this notebook is in. It will automatically download the .py files needed for this assignment"
      ],
      "id": "a8c200a7-b3ab-4c9a-bcf8-320271c040f3"
    },
    {
      "cell_type": "code",
      "execution_count": 171,
      "metadata": {
        "id": "igFRsZKIC18S"
      },
      "outputs": [],
      "source": [
        "# # Change the following  line to the directory this notebook is (if using colab)\n",
        "# # In case you do not know the path, open the file navigator on the left in colab\n",
        "# # Find the folder containing this notebook, then press on the three dots --> copy path\n",
        "notebook_dir = \"/content/drive/MyDrive/Colab Notebooks/\""
      ],
      "id": "igFRsZKIC18S"
    },
    {
      "cell_type": "code",
      "execution_count": 172,
      "metadata": {
        "colab": {
          "base_uri": "https://localhost:8080/"
        },
        "id": "828246d4-75b2-42b7-ab06-925e6624f411",
        "outputId": "1efa641a-a432-46ce-be28-447152b20c96"
      },
      "outputs": [
        {
          "output_type": "stream",
          "name": "stdout",
          "text": [
            "Drive already mounted at /content/drive; to attempt to forcibly remount, call drive.mount(\"/content/drive\", force_remount=True).\n"
          ]
        }
      ],
      "source": [
        "# UNCOMMENT IF USING COLAB\n",
        "from google.colab import drive\n",
        "import requests\n",
        "drive.mount('/content/drive')\n",
        "import sys\n",
        "import os\n",
        "sys.path.insert(0, notebook_dir) \n",
        "os.chdir(notebook_dir)\n",
        "symco = \"https://github.com/vlamen/tue-deeplearning/blob/main/assignments/assignment_1/symconv.py?raw=true\"\n",
        "crpt = \"https://github.com/vlamen/tue-deeplearning/blob/main/assignments/assignment_1/carpet.py?raw=true\"\n",
        "r_s = requests.get(symco, allow_redirects=True)\n",
        "r_c = requests.get(crpt, allow_redirects=True)\n",
        "with open('symconv.py', 'wb') as f:\n",
        "    f.write(r_s.content)\n",
        "with open('carpet.py', 'wb') as f:\n",
        "    f.write(r_c.content)"
      ],
      "id": "828246d4-75b2-42b7-ab06-925e6624f411"
    },
    {
      "cell_type": "code",
      "execution_count": 173,
      "metadata": {
        "id": "1c401bd6-3828-4f5e-ada8-a026e0a167bf"
      },
      "outputs": [],
      "source": [
        "import torch\n",
        "import torch.nn as nn\n",
        "import torch.nn.functional as F\n",
        "from torch.utils.data import DataLoader, Dataset, TensorDataset\n",
        "\n",
        "import io\n",
        "import requests\n",
        "\n",
        "import symconv as sc\n",
        "from carpet import show_carpet, oh_to_label\n",
        "\n",
        "import numpy as np\n",
        "import matplotlib.pyplot as plt\n",
        "\n",
        "from scipy.spatial.distance import cdist\n",
        "\n",
        "from tqdm import tqdm"
      ],
      "id": "1c401bd6-3828-4f5e-ada8-a026e0a167bf"
    },
    {
      "cell_type": "code",
      "execution_count": 174,
      "metadata": {
        "id": "35c0bcb8-5215-40b3-8ba2-7e4208651c90"
      },
      "outputs": [],
      "source": [
        "def load_numpy_arr_from_url(url):\n",
        "    \"\"\"\n",
        "    Loads a numpy array from surfdrive. \n",
        "    \n",
        "    Input:\n",
        "    url: Download link of dataset \n",
        "    \n",
        "    Outputs:\n",
        "    dataset: numpy array with input features or labels\n",
        "    \"\"\"\n",
        "    \n",
        "    response = requests.get(url)\n",
        "    response.raise_for_status()\n",
        "\n",
        "    return np.load(io.BytesIO(response.content)) "
      ],
      "id": "35c0bcb8-5215-40b3-8ba2-7e4208651c90"
    },
    {
      "cell_type": "markdown",
      "metadata": {
        "id": "045a1fdc-8c84-4829-b8c8-14c957f733f6"
      },
      "source": [
        "# Task 1: Pattern Classification"
      ],
      "id": "045a1fdc-8c84-4829-b8c8-14c957f733f6"
    },
    {
      "cell_type": "code",
      "execution_count": 175,
      "metadata": {
        "colab": {
          "base_uri": "https://localhost:8080/"
        },
        "id": "a45b63ab-610e-4e03-b1da-a717c2a77c8a",
        "outputId": "c044c007-7ed6-4cb8-c56d-e618d1e764ce"
      },
      "outputs": [
        {
          "output_type": "stream",
          "name": "stdout",
          "text": [
            "Carpet train shape: torch.Size([7500, 1, 96, 60])\n",
            "Label train shape: torch.Size([7500, 3])\n",
            "Carpet validation shape: torch.Size([2000, 1, 96, 60])\n",
            "Label validation shape: torch.Size([2000, 3])\n",
            "Carpet test shape: torch.Size([500, 1, 96, 60])\n",
            "Label test shape: torch.Size([500, 3])\n"
          ]
        }
      ],
      "source": [
        "# loading training and testing data for task 1\n",
        "# DO NOT MODIFY\n",
        "task1 = load_numpy_arr_from_url(\"https://github.com/vlamen/tue-deeplearning/blob/main/assignments/assignment_1/task1data.npz?raw=true\")\n",
        "# task1 = np.load(\"task1data.npz\")\n",
        "\n",
        "X = torch.tensor(task1['arr_0']).float()\n",
        "y = torch.tensor(task1['arr_1']).float()\n",
        "\n",
        "X_train = X[:7500]\n",
        "X_val = X[7500:9500]\n",
        "X_test = X[9500:]\n",
        "y_train = y[:7500]\n",
        "y_val = y[7500:9500]\n",
        "y_test  = y[9500:]\n",
        "\n",
        "train_dataset = TensorDataset(X_train, y_train)\n",
        "val_dataset = TensorDataset(X_val, y_val)\n",
        "test_dataset = TensorDataset(X_test, y_test)\n",
        "\n",
        "\n",
        "print(f\"Carpet train shape: {X_train.shape}\")\n",
        "print(f\"Label train shape: {y_train.shape}\")\n",
        "print(f\"Carpet validation shape: {X_val.shape}\")\n",
        "print(f\"Label validation shape: {y_val.shape}\")\n",
        "print(f\"Carpet test shape: {X_test.shape}\")\n",
        "print(f\"Label test shape: {y_test.shape}\")"
      ],
      "id": "a45b63ab-610e-4e03-b1da-a717c2a77c8a"
    },
    {
      "cell_type": "code",
      "execution_count": 176,
      "metadata": {
        "colab": {
          "base_uri": "https://localhost:8080/",
          "height": 303
        },
        "id": "a4c5553f-023f-48fc-81b5-83184a46a21d",
        "outputId": "d8781394-d69c-4ba3-8db5-e5d6435b414c"
      },
      "outputs": [
        {
          "output_type": "stream",
          "name": "stdout",
          "text": [
            "Carpet from Convolushahr\n"
          ]
        },
        {
          "output_type": "display_data",
          "data": {
            "text/plain": [
              "<Figure size 640x480 with 1 Axes>"
            ],
            "image/png": "[encoded data removed]"
          },
          "metadata": {}
        }
      ],
      "source": [
        "# # random carpet\n",
        "# idx = np.random.randint(0,7500)\n",
        "# show_carpet(X_train, idx)\n",
        "# print('Carpet from', oh_to_label(y_train[idx,None])[0])\n",
        "# random carpet\n",
        "idx = np.random.randint(0,7500)\n",
        "show_carpet(X_train, idx)\n",
        "print('Carpet from', oh_to_label(y_train[idx,None])[0])"
      ],
      "id": "a4c5553f-023f-48fc-81b5-83184a46a21d"
    },
    {
      "cell_type": "code",
      "execution_count": 177,
      "metadata": {
        "id": "7a5db004-5dbf-42b3-a665-3c97c293d6c5"
      },
      "outputs": [],
      "source": [
        "###     YOUR CODE FOR TASK 1    ###\n",
        "### ADD MORE CELLS IF NECESSARY ###"
      ],
      "id": "7a5db004-5dbf-42b3-a665-3c97c293d6c5"
    },
    {
      "cell_type": "code",
      "execution_count": 178,
      "metadata": {
        "id": "DM4GRYgM9leJ"
      },
      "outputs": [],
      "source": [
        "dev = torch.device(\n",
        "    \"cuda\") if torch.cuda.is_available() else torch.device(\"cpu\")"
      ],
      "id": "DM4GRYgM9leJ"
    },
    {
      "cell_type": "code",
      "execution_count": 179,
      "metadata": {
        "id": "fZ0HbuC9pDkm"
      },
      "outputs": [],
      "source": [
        "def loss_batch(model, loss_func, xb, yb, opt=None):\n",
        "    \n",
        "    output=model(xb)\n",
        "    loss = loss_func(output, yb)\n",
        "\n",
        "    if opt is not None:\n",
        "        loss.backward()\n",
        "        opt.step()\n",
        "        opt.zero_grad()\n",
        "\n",
        "    _, preds = torch.max(output, 1)\n",
        "    # _, preds = torch.amax(output, 2)\n",
        "    # corrects = torch.sum(preds == yb.data)\n",
        "    corrects = torch.sum(preds == torch.argmax(yb, dim=1))\n",
        "    \n",
        "    return loss.item(), corrects, len(xb)"
      ],
      "id": "fZ0HbuC9pDkm"
    },
    {
      "cell_type": "code",
      "execution_count": 180,
      "metadata": {
        "id": "FswOtVp1pIGB"
      },
      "outputs": [],
      "source": [
        "from tqdm import tqdm\n",
        "def fit(epochs, model, loss_func, opt, train_dl, valid_dl):\n",
        "\n",
        "    for epoch in tqdm(range(epochs)):\n",
        "        \n",
        "        \n",
        "        # training process\n",
        "        model.train()\n",
        "\n",
        "        running_loss = 0.0\n",
        "        running_corrects = 0\n",
        "        sample_num=0\n",
        "        for xb, yb in train_dl:\n",
        "            \n",
        "            # forward\n",
        "            # backward and optimize only if in training phase\n",
        "            losses, corrects, nums = loss_batch(model, loss_func, xb, yb,opt)\n",
        "            \n",
        "            # statistics\n",
        "            running_loss += losses * xb.size(0)\n",
        "            running_corrects += corrects\n",
        "            sample_num+=nums\n",
        "            \n",
        "        train_loss = running_loss / sample_num\n",
        "        train_acc = running_corrects.double() / sample_num\n",
        "\n",
        "        \n",
        "        # validation process\n",
        "        model.eval()\n",
        "        with torch.no_grad():\n",
        "            running_loss = 0.0\n",
        "            running_corrects = 0\n",
        "            sample_num=0\n",
        "            for xb, yb in valid_dl:\n",
        "                \n",
        "                # forward\n",
        "                losses, corrects, nums = loss_batch(model, loss_func, xb, yb)\n",
        "                \n",
        "                # statistics\n",
        "                running_loss += losses * xb.size(0)\n",
        "                running_corrects += corrects\n",
        "                sample_num+=nums\n",
        "\n",
        "            val_loss = running_loss / sample_num\n",
        "            val_acc = running_corrects.double()/ sample_num\n",
        "            \n",
        "            \n",
        "        # print the results\n",
        "        print(\n",
        "            f'EPOCH: {epoch+1:0>{len(str(epochs))}}/{epochs}',\n",
        "            end=' '\n",
        "        )\n",
        "        print(f'LOSS: {train_loss:.4f}',f'ACC: {train_acc:.4f} ',end=' ')\n",
        "        print(f'VAL-LOSS: {val_loss:.4f}',f'VAL-ACC: {val_acc:.4f} ',end='\\n')\n",
        "\n",
        "   "
      ],
      "id": "FswOtVp1pIGB"
    },
    {
      "cell_type": "code",
      "execution_count": 181,
      "metadata": {
        "id": "pILVqLJ3pRBN"
      },
      "outputs": [],
      "source": [
        "from torch.utils.data import DataLoader\n",
        "def get_data(train_ds, valid_ds, test_dataset, bs):\n",
        "    return (\n",
        "        DataLoader(train_ds, batch_size=bs, shuffle=True, drop_last=True),\n",
        "        DataLoader(valid_ds, batch_size=bs * 2, drop_last=True),\n",
        "        DataLoader(test_dataset, batch_size=bs, drop_last=True)\n",
        "    )"
      ],
      "id": "pILVqLJ3pRBN"
    },
    {
      "cell_type": "code",
      "execution_count": 182,
      "metadata": {
        "id": "5gGDqXVzpR9M"
      },
      "outputs": [],
      "source": [
        "bs=32"
      ],
      "id": "5gGDqXVzpR9M"
    },
    {
      "cell_type": "code",
      "execution_count": 183,
      "metadata": {
        "id": "3euStWAmpprI"
      },
      "outputs": [],
      "source": [
        "def preprocess(x, y):\n",
        "    return x.to(dev), y.to(dev)\n",
        "\n",
        "\n",
        "class WrappedDataLoader:\n",
        "    def __init__(self, dl, func):\n",
        "        self.dl = dl\n",
        "        self.func = func\n",
        "\n",
        "    def __len__(self):\n",
        "        return len(self.dl)\n",
        "\n",
        "    def __iter__(self):\n",
        "        batches = iter(self.dl)\n",
        "        for b in batches:\n",
        "            yield (self.func(*b))\n",
        "\n",
        "train_dl, valid_dl, test_dl = get_data(train_dataset, val_dataset, test_dataset, bs)\n",
        "train_dl = WrappedDataLoader(train_dl, preprocess)\n",
        "valid_dl = WrappedDataLoader(valid_dl, preprocess)\n",
        "test_dl = WrappedDataLoader(test_dl, preprocess)"
      ],
      "id": "3euStWAmpprI"
    },
    {
      "cell_type": "code",
      "execution_count": 184,
      "metadata": {
        "colab": {
          "base_uri": "https://localhost:8080/"
        },
        "id": "CkrYHxUM5g7c",
        "outputId": "2fcb27f7-f591-4727-c40c-1e7b6f69aaa6"
      },
      "outputs": [
        {
          "output_type": "stream",
          "name": "stdout",
          "text": [
            "Image shape: torch.Size([32, 1, 96, 60]) -> [batch_size, color_channels, height, width]\n",
            "Label shape: torch.Size([32, 3])\n"
          ]
        }
      ],
      "source": [
        "# Get image and label from custom DataLoader\n",
        "img_custom, label_custom = next(iter(train_dl))\n",
        "\n",
        "# Batch size will now be 1, try changing the batch_size parameter above and see what happens\n",
        "print(f\"Image shape: {img_custom.shape} -> [batch_size, color_channels, height, width]\")\n",
        "print(f\"Label shape: {label_custom.shape}\")"
      ],
      "id": "CkrYHxUM5g7c"
    },
    {
      "cell_type": "code",
      "execution_count": 185,
      "metadata": {
        "id": "eUJVrejRtL7F"
      },
      "outputs": [],
      "source": [
        "class Lambda(nn.Module):\n",
        "    def __init__(self, func):\n",
        "        super().__init__()\n",
        "        self.func = func\n",
        "\n",
        "    def forward(self, x):\n",
        "        return self.func(x)"
      ],
      "id": "eUJVrejRtL7F"
    },
    {
      "cell_type": "code",
      "source": [
        "model = nn.Sequential(\n",
        "  sc.Slice(rotation=4, reflection=True),\n",
        "  sc.SymmetryConv2d(in_filters=1,out_filters=16,kernel_size=4,rotation=4, stride=4, reflection = True),\n",
        "  nn.ReLU(),\n",
        "  nn.Dropout(p=0.2),\n",
        "  sc.SymmetryPool(),\n",
        "  Lambda(lambda x: x.view(x.size(0), -1)),\n",
        "  nn.Linear(5760, 512),\n",
        "  nn.ReLU(inplace=True),\n",
        "  nn.Dropout(p=0.2),\n",
        "  nn.Linear(512, 3)\n",
        ")"
      ],
      "metadata": {
        "id": "OQPFgDdDc7yx"
      },
      "id": "OQPFgDdDc7yx",
      "execution_count": 188,
      "outputs": []
    },
    {
      "cell_type": "code",
      "execution_count": 189,
      "metadata": {
        "cellView": "form",
        "id": "0BiQnUuR7fjc"
      },
      "outputs": [],
      "source": [
        "#@title Standaard titeltekst\n",
        "# model = nn.Sequential(\n",
        "#   nn.Conv2d(in_channels=1, out_channels=32, kernel_size=3, padding=1),\n",
        "#   nn.BatchNorm2d(32),\n",
        "#   nn.ReLU(inplace=True),\n",
        "#   nn.Conv2d(in_channels=32, out_channels=64, kernel_size=3, padding=1),\n",
        "#   nn.ReLU(inplace=True),\n",
        "#   nn.MaxPool2d(kernel_size=2, stride=2),\n",
        "\n",
        "#   # Conv Layer block 2\n",
        "#   nn.Conv2d(in_channels=64, out_channels=64, kernel_size=3, padding=1),\n",
        "#   nn.BatchNorm2d(64),\n",
        "#   nn.ReLU(inplace=True),\n",
        "#   nn.Conv2d(in_channels=64, out_channels=64, kernel_size=3, padding=1),\n",
        "#   nn.ReLU(inplace=True),\n",
        "#   nn.MaxPool2d(kernel_size=2, stride=2),\n",
        "\n",
        "\n",
        "#   # Conv Layer block 3\n",
        "#   nn.Conv2d(in_channels=64, out_channels=64, kernel_size=3, padding=1),\n",
        "#   nn.BatchNorm2d(64),\n",
        "#   nn.ReLU(inplace=True),\n",
        "#   nn.Conv2d(in_channels=64, out_channels=64, kernel_size=3, padding=1),\n",
        "#   nn.ReLU(inplace=True),\n",
        "\n",
        "#   Lambda(lambda x: x.view(x.size(0), -1)),\n",
        "\n",
        "#   nn.Linear(23040, 1024),\n",
        "#   nn.ReLU(inplace=True),\n",
        "#   nn.Linear(1024, 512),\n",
        "#   nn.ReLU(inplace=True),\n",
        "#   nn.Linear(512, 3)\n",
        "# )"
      ],
      "id": "0BiQnUuR7fjc"
    },
    {
      "cell_type": "code",
      "execution_count": 190,
      "metadata": {
        "colab": {
          "base_uri": "https://localhost:8080/"
        },
        "id": "rLR9J294qmtS",
        "outputId": "30b5f618-83bd-4800-d6f7-f1b61cf62093"
      },
      "outputs": [
        {
          "output_type": "stream",
          "name": "stderr",
          "text": [
            "  2%|▏         | 1/50 [00:01<01:05,  1.33s/it]"
          ]
        },
        {
          "output_type": "stream",
          "name": "stdout",
          "text": [
            "EPOCH: 01/50 LOSS: 1.1506 ACC: 0.3387  VAL-LOSS: 1.0869 VAL-ACC: 0.4002 \n"
          ]
        },
        {
          "output_type": "stream",
          "name": "stderr",
          "text": [
            "\r  4%|▍         | 2/50 [00:02<01:03,  1.31s/it]"
          ]
        },
        {
          "output_type": "stream",
          "name": "stdout",
          "text": [
            "EPOCH: 02/50 LOSS: 1.0917 ACC: 0.3806  VAL-LOSS: 1.0792 VAL-ACC: 0.4400 \n"
          ]
        },
        {
          "output_type": "stream",
          "name": "stderr",
          "text": [
            "\r  6%|▌         | 3/50 [00:03<01:01,  1.30s/it]"
          ]
        },
        {
          "output_type": "stream",
          "name": "stdout",
          "text": [
            "EPOCH: 03/50 LOSS: 1.0758 ACC: 0.4128  VAL-LOSS: 1.0729 VAL-ACC: 0.3891 \n"
          ]
        },
        {
          "output_type": "stream",
          "name": "stderr",
          "text": [
            "\r  8%|▊         | 4/50 [00:05<00:59,  1.29s/it]"
          ]
        },
        {
          "output_type": "stream",
          "name": "stdout",
          "text": [
            "EPOCH: 04/50 LOSS: 1.0612 ACC: 0.4364  VAL-LOSS: 1.0636 VAL-ACC: 0.4274 \n"
          ]
        },
        {
          "output_type": "stream",
          "name": "stderr",
          "text": [
            "\r 10%|█         | 5/50 [00:06<00:57,  1.28s/it]"
          ]
        },
        {
          "output_type": "stream",
          "name": "stdout",
          "text": [
            "EPOCH: 05/50 LOSS: 1.0377 ACC: 0.4814  VAL-LOSS: 1.0329 VAL-ACC: 0.5423 \n"
          ]
        },
        {
          "output_type": "stream",
          "name": "stderr",
          "text": [
            "\r 12%|█▏        | 6/50 [00:08<01:01,  1.41s/it]"
          ]
        },
        {
          "output_type": "stream",
          "name": "stdout",
          "text": [
            "EPOCH: 06/50 LOSS: 1.0106 ACC: 0.5134  VAL-LOSS: 1.0071 VAL-ACC: 0.5449 \n"
          ]
        },
        {
          "output_type": "stream",
          "name": "stderr",
          "text": [
            "\r 14%|█▍        | 7/50 [00:09<01:04,  1.49s/it]"
          ]
        },
        {
          "output_type": "stream",
          "name": "stdout",
          "text": [
            "EPOCH: 07/50 LOSS: 0.9754 ACC: 0.5600  VAL-LOSS: 0.9899 VAL-ACC: 0.5862 \n"
          ]
        },
        {
          "output_type": "stream",
          "name": "stderr",
          "text": [
            "\r 16%|█▌        | 8/50 [00:11<01:00,  1.44s/it]"
          ]
        },
        {
          "output_type": "stream",
          "name": "stdout",
          "text": [
            "EPOCH: 08/50 LOSS: 0.9412 ACC: 0.5851  VAL-LOSS: 0.9494 VAL-ACC: 0.6462 \n"
          ]
        },
        {
          "output_type": "stream",
          "name": "stderr",
          "text": [
            "\r 18%|█▊        | 9/50 [00:12<00:56,  1.38s/it]"
          ]
        },
        {
          "output_type": "stream",
          "name": "stdout",
          "text": [
            "EPOCH: 09/50 LOSS: 0.8946 ACC: 0.6373  VAL-LOSS: 0.9108 VAL-ACC: 0.6305 \n"
          ]
        },
        {
          "output_type": "stream",
          "name": "stderr",
          "text": [
            "\r 20%|██        | 10/50 [00:14<00:58,  1.47s/it]"
          ]
        },
        {
          "output_type": "stream",
          "name": "stdout",
          "text": [
            "EPOCH: 10/50 LOSS: 0.8380 ACC: 0.6922  VAL-LOSS: 0.8545 VAL-ACC: 0.7147 \n"
          ]
        },
        {
          "output_type": "stream",
          "name": "stderr",
          "text": [
            "\r 22%|██▏       | 11/50 [00:15<00:59,  1.53s/it]"
          ]
        },
        {
          "output_type": "stream",
          "name": "stdout",
          "text": [
            "EPOCH: 11/50 LOSS: 0.7799 ACC: 0.7370  VAL-LOSS: 0.7983 VAL-ACC: 0.7500 \n"
          ]
        },
        {
          "output_type": "stream",
          "name": "stderr",
          "text": [
            "\r 24%|██▍       | 12/50 [00:17<00:56,  1.48s/it]"
          ]
        },
        {
          "output_type": "stream",
          "name": "stdout",
          "text": [
            "EPOCH: 12/50 LOSS: 0.7319 ACC: 0.7508  VAL-LOSS: 0.7342 VAL-ACC: 0.8085 \n"
          ]
        },
        {
          "output_type": "stream",
          "name": "stderr",
          "text": [
            "\r 26%|██▌       | 13/50 [00:18<00:52,  1.41s/it]"
          ]
        },
        {
          "output_type": "stream",
          "name": "stdout",
          "text": [
            "EPOCH: 13/50 LOSS: 0.6651 ACC: 0.8002  VAL-LOSS: 0.6948 VAL-ACC: 0.8367 \n"
          ]
        },
        {
          "output_type": "stream",
          "name": "stderr",
          "text": [
            "\r 28%|██▊       | 14/50 [00:19<00:48,  1.35s/it]"
          ]
        },
        {
          "output_type": "stream",
          "name": "stdout",
          "text": [
            "EPOCH: 14/50 LOSS: 0.6058 ACC: 0.8283  VAL-LOSS: 0.6263 VAL-ACC: 0.8710 \n"
          ]
        },
        {
          "output_type": "stream",
          "name": "stderr",
          "text": [
            "\r 30%|███       | 15/50 [00:20<00:48,  1.39s/it]"
          ]
        },
        {
          "output_type": "stream",
          "name": "stdout",
          "text": [
            "EPOCH: 15/50 LOSS: 0.5435 ACC: 0.8582  VAL-LOSS: 0.5650 VAL-ACC: 0.9068 \n"
          ]
        },
        {
          "output_type": "stream",
          "name": "stderr",
          "text": [
            "\r 32%|███▏      | 16/50 [00:22<00:49,  1.45s/it]"
          ]
        },
        {
          "output_type": "stream",
          "name": "stdout",
          "text": [
            "EPOCH: 16/50 LOSS: 0.4842 ACC: 0.8831  VAL-LOSS: 0.5240 VAL-ACC: 0.8846 \n"
          ]
        },
        {
          "output_type": "stream",
          "name": "stderr",
          "text": [
            "\r 34%|███▍      | 17/50 [00:23<00:47,  1.44s/it]"
          ]
        },
        {
          "output_type": "stream",
          "name": "stdout",
          "text": [
            "EPOCH: 17/50 LOSS: 0.4403 ACC: 0.9016  VAL-LOSS: 0.4945 VAL-ACC: 0.9199 \n"
          ]
        },
        {
          "output_type": "stream",
          "name": "stderr",
          "text": [
            "\r 36%|███▌      | 18/50 [00:25<00:44,  1.38s/it]"
          ]
        },
        {
          "output_type": "stream",
          "name": "stdout",
          "text": [
            "EPOCH: 18/50 LOSS: 0.3965 ACC: 0.9173  VAL-LOSS: 0.4440 VAL-ACC: 0.9093 \n"
          ]
        },
        {
          "output_type": "stream",
          "name": "stderr",
          "text": [
            "\r 38%|███▊      | 19/50 [00:26<00:41,  1.34s/it]"
          ]
        },
        {
          "output_type": "stream",
          "name": "stdout",
          "text": [
            "EPOCH: 19/50 LOSS: 0.3560 ACC: 0.9248  VAL-LOSS: 0.4392 VAL-ACC: 0.8997 \n"
          ]
        },
        {
          "output_type": "stream",
          "name": "stderr",
          "text": [
            "\r 40%|████      | 20/50 [00:27<00:39,  1.30s/it]"
          ]
        },
        {
          "output_type": "stream",
          "name": "stdout",
          "text": [
            "EPOCH: 20/50 LOSS: 0.3173 ACC: 0.9467  VAL-LOSS: 0.3665 VAL-ACC: 0.9526 \n"
          ]
        },
        {
          "output_type": "stream",
          "name": "stderr",
          "text": [
            "\r 42%|████▏     | 21/50 [00:28<00:37,  1.28s/it]"
          ]
        },
        {
          "output_type": "stream",
          "name": "stdout",
          "text": [
            "EPOCH: 21/50 LOSS: 0.2913 ACC: 0.9534  VAL-LOSS: 0.3299 VAL-ACC: 0.9622 \n"
          ]
        },
        {
          "output_type": "stream",
          "name": "stderr",
          "text": [
            "\r 44%|████▍     | 22/50 [00:30<00:35,  1.26s/it]"
          ]
        },
        {
          "output_type": "stream",
          "name": "stdout",
          "text": [
            "EPOCH: 22/50 LOSS: 0.2640 ACC: 0.9569  VAL-LOSS: 0.3125 VAL-ACC: 0.9688 \n"
          ]
        },
        {
          "output_type": "stream",
          "name": "stderr",
          "text": [
            "\r 46%|████▌     | 23/50 [00:31<00:33,  1.25s/it]"
          ]
        },
        {
          "output_type": "stream",
          "name": "stdout",
          "text": [
            "EPOCH: 23/50 LOSS: 0.2399 ACC: 0.9631  VAL-LOSS: 0.3640 VAL-ACC: 0.8649 \n"
          ]
        },
        {
          "output_type": "stream",
          "name": "stderr",
          "text": [
            "\r 48%|████▊     | 24/50 [00:32<00:32,  1.25s/it]"
          ]
        },
        {
          "output_type": "stream",
          "name": "stdout",
          "text": [
            "EPOCH: 24/50 LOSS: 0.2130 ACC: 0.9674  VAL-LOSS: 0.2689 VAL-ACC: 0.9824 \n"
          ]
        },
        {
          "output_type": "stream",
          "name": "stderr",
          "text": [
            "\r 50%|█████     | 25/50 [00:33<00:32,  1.29s/it]"
          ]
        },
        {
          "output_type": "stream",
          "name": "stdout",
          "text": [
            "EPOCH: 25/50 LOSS: 0.1885 ACC: 0.9825  VAL-LOSS: 0.2412 VAL-ACC: 0.9824 \n"
          ]
        },
        {
          "output_type": "stream",
          "name": "stderr",
          "text": [
            "\r 52%|█████▏    | 26/50 [00:35<00:33,  1.38s/it]"
          ]
        },
        {
          "output_type": "stream",
          "name": "stdout",
          "text": [
            "EPOCH: 26/50 LOSS: 0.1736 ACC: 0.9824  VAL-LOSS: 0.2277 VAL-ACC: 0.9839 \n"
          ]
        },
        {
          "output_type": "stream",
          "name": "stderr",
          "text": [
            "\r 54%|█████▍    | 27/50 [00:37<00:32,  1.41s/it]"
          ]
        },
        {
          "output_type": "stream",
          "name": "stdout",
          "text": [
            "EPOCH: 27/50 LOSS: 0.1616 ACC: 0.9809  VAL-LOSS: 0.2189 VAL-ACC: 0.9884 \n"
          ]
        },
        {
          "output_type": "stream",
          "name": "stderr",
          "text": [
            "\r 56%|█████▌    | 28/50 [00:38<00:29,  1.35s/it]"
          ]
        },
        {
          "output_type": "stream",
          "name": "stdout",
          "text": [
            "EPOCH: 28/50 LOSS: 0.1472 ACC: 0.9862  VAL-LOSS: 0.1954 VAL-ACC: 0.9899 \n"
          ]
        },
        {
          "output_type": "stream",
          "name": "stderr",
          "text": [
            "\r 58%|█████▊    | 29/50 [00:39<00:27,  1.31s/it]"
          ]
        },
        {
          "output_type": "stream",
          "name": "stdout",
          "text": [
            "EPOCH: 29/50 LOSS: 0.1369 ACC: 0.9880  VAL-LOSS: 0.1869 VAL-ACC: 0.9854 \n"
          ]
        },
        {
          "output_type": "stream",
          "name": "stderr",
          "text": [
            "\r 60%|██████    | 30/50 [00:40<00:25,  1.28s/it]"
          ]
        },
        {
          "output_type": "stream",
          "name": "stdout",
          "text": [
            "EPOCH: 30/50 LOSS: 0.1301 ACC: 0.9892  VAL-LOSS: 0.1715 VAL-ACC: 0.9879 \n"
          ]
        },
        {
          "output_type": "stream",
          "name": "stderr",
          "text": [
            "\r 62%|██████▏   | 31/50 [00:41<00:24,  1.27s/it]"
          ]
        },
        {
          "output_type": "stream",
          "name": "stdout",
          "text": [
            "EPOCH: 31/50 LOSS: 0.1194 ACC: 0.9892  VAL-LOSS: 0.1635 VAL-ACC: 0.9914 \n"
          ]
        },
        {
          "output_type": "stream",
          "name": "stderr",
          "text": [
            "\r 64%|██████▍   | 32/50 [00:43<00:22,  1.25s/it]"
          ]
        },
        {
          "output_type": "stream",
          "name": "stdout",
          "text": [
            "EPOCH: 32/50 LOSS: 0.1111 ACC: 0.9924  VAL-LOSS: 0.1539 VAL-ACC: 0.9914 \n"
          ]
        },
        {
          "output_type": "stream",
          "name": "stderr",
          "text": [
            "\r 66%|██████▌   | 33/50 [00:44<00:21,  1.24s/it]"
          ]
        },
        {
          "output_type": "stream",
          "name": "stdout",
          "text": [
            "EPOCH: 33/50 LOSS: 0.1054 ACC: 0.9915  VAL-LOSS: 0.1458 VAL-ACC: 0.9934 \n"
          ]
        },
        {
          "output_type": "stream",
          "name": "stderr",
          "text": [
            "\r 68%|██████▊   | 34/50 [00:45<00:19,  1.24s/it]"
          ]
        },
        {
          "output_type": "stream",
          "name": "stdout",
          "text": [
            "EPOCH: 34/50 LOSS: 0.0950 ACC: 0.9939  VAL-LOSS: 0.1437 VAL-ACC: 0.9884 \n"
          ]
        },
        {
          "output_type": "stream",
          "name": "stderr",
          "text": [
            "\r 70%|███████   | 35/50 [00:46<00:18,  1.24s/it]"
          ]
        },
        {
          "output_type": "stream",
          "name": "stdout",
          "text": [
            "EPOCH: 35/50 LOSS: 0.0907 ACC: 0.9953  VAL-LOSS: 0.1349 VAL-ACC: 0.9955 \n"
          ]
        },
        {
          "output_type": "stream",
          "name": "stderr",
          "text": [
            "\r 72%|███████▏  | 36/50 [00:48<00:18,  1.33s/it]"
          ]
        },
        {
          "output_type": "stream",
          "name": "stdout",
          "text": [
            "EPOCH: 36/50 LOSS: 0.0836 ACC: 0.9948  VAL-LOSS: 0.1248 VAL-ACC: 0.9950 \n"
          ]
        },
        {
          "output_type": "stream",
          "name": "stderr",
          "text": [
            "\r 74%|███████▍  | 37/50 [00:49<00:18,  1.40s/it]"
          ]
        },
        {
          "output_type": "stream",
          "name": "stdout",
          "text": [
            "EPOCH: 37/50 LOSS: 0.0755 ACC: 0.9964  VAL-LOSS: 0.1208 VAL-ACC: 0.9914 \n"
          ]
        },
        {
          "output_type": "stream",
          "name": "stderr",
          "text": [
            "\r 76%|███████▌  | 38/50 [00:51<00:16,  1.36s/it]"
          ]
        },
        {
          "output_type": "stream",
          "name": "stdout",
          "text": [
            "EPOCH: 38/50 LOSS: 0.0759 ACC: 0.9967  VAL-LOSS: 0.1354 VAL-ACC: 0.9824 \n"
          ]
        },
        {
          "output_type": "stream",
          "name": "stderr",
          "text": [
            "\r 78%|███████▊  | 39/50 [00:52<00:14,  1.30s/it]"
          ]
        },
        {
          "output_type": "stream",
          "name": "stdout",
          "text": [
            "EPOCH: 39/50 LOSS: 0.0725 ACC: 0.9960  VAL-LOSS: 0.1129 VAL-ACC: 0.9970 \n"
          ]
        },
        {
          "output_type": "stream",
          "name": "stderr",
          "text": [
            "\r 80%|████████  | 40/50 [00:53<00:12,  1.27s/it]"
          ]
        },
        {
          "output_type": "stream",
          "name": "stdout",
          "text": [
            "EPOCH: 40/50 LOSS: 0.0673 ACC: 0.9976  VAL-LOSS: 0.1038 VAL-ACC: 0.9934 \n"
          ]
        },
        {
          "output_type": "stream",
          "name": "stderr",
          "text": [
            "\r 82%|████████▏ | 41/50 [00:55<00:12,  1.35s/it]"
          ]
        },
        {
          "output_type": "stream",
          "name": "stdout",
          "text": [
            "EPOCH: 41/50 LOSS: 0.0620 ACC: 0.9972  VAL-LOSS: 0.1224 VAL-ACC: 0.9919 \n"
          ]
        },
        {
          "output_type": "stream",
          "name": "stderr",
          "text": [
            "\r 84%|████████▍ | 42/50 [00:56<00:10,  1.36s/it]"
          ]
        },
        {
          "output_type": "stream",
          "name": "stdout",
          "text": [
            "EPOCH: 42/50 LOSS: 0.0609 ACC: 0.9977  VAL-LOSS: 0.1049 VAL-ACC: 0.9929 \n"
          ]
        },
        {
          "output_type": "stream",
          "name": "stderr",
          "text": [
            "\r 86%|████████▌ | 43/50 [00:57<00:09,  1.32s/it]"
          ]
        },
        {
          "output_type": "stream",
          "name": "stdout",
          "text": [
            "EPOCH: 43/50 LOSS: 0.0563 ACC: 0.9984  VAL-LOSS: 0.0980 VAL-ACC: 0.9960 \n"
          ]
        },
        {
          "output_type": "stream",
          "name": "stderr",
          "text": [
            "\r 88%|████████▊ | 44/50 [00:58<00:07,  1.29s/it]"
          ]
        },
        {
          "output_type": "stream",
          "name": "stdout",
          "text": [
            "EPOCH: 44/50 LOSS: 0.0550 ACC: 0.9973  VAL-LOSS: 0.0921 VAL-ACC: 0.9955 \n"
          ]
        },
        {
          "output_type": "stream",
          "name": "stderr",
          "text": [
            "\r 90%|█████████ | 45/50 [01:00<00:06,  1.28s/it]"
          ]
        },
        {
          "output_type": "stream",
          "name": "stdout",
          "text": [
            "EPOCH: 45/50 LOSS: 0.0519 ACC: 0.9987  VAL-LOSS: 0.0987 VAL-ACC: 0.9899 \n"
          ]
        },
        {
          "output_type": "stream",
          "name": "stderr",
          "text": [
            "\r 92%|█████████▏| 46/50 [01:01<00:05,  1.36s/it]"
          ]
        },
        {
          "output_type": "stream",
          "name": "stdout",
          "text": [
            "EPOCH: 46/50 LOSS: 0.0488 ACC: 0.9984  VAL-LOSS: 0.0983 VAL-ACC: 0.9904 \n"
          ]
        },
        {
          "output_type": "stream",
          "name": "stderr",
          "text": [
            "\r 94%|█████████▍| 47/50 [01:03<00:04,  1.42s/it]"
          ]
        },
        {
          "output_type": "stream",
          "name": "stdout",
          "text": [
            "EPOCH: 47/50 LOSS: 0.0493 ACC: 0.9977  VAL-LOSS: 0.0897 VAL-ACC: 0.9924 \n"
          ]
        },
        {
          "output_type": "stream",
          "name": "stderr",
          "text": [
            "\r 96%|█████████▌| 48/50 [01:04<00:02,  1.37s/it]"
          ]
        },
        {
          "output_type": "stream",
          "name": "stdout",
          "text": [
            "EPOCH: 48/50 LOSS: 0.0457 ACC: 0.9987  VAL-LOSS: 0.0808 VAL-ACC: 0.9960 \n"
          ]
        },
        {
          "output_type": "stream",
          "name": "stderr",
          "text": [
            "\r 98%|█████████▊| 49/50 [01:05<00:01,  1.32s/it]"
          ]
        },
        {
          "output_type": "stream",
          "name": "stdout",
          "text": [
            "EPOCH: 49/50 LOSS: 0.0416 ACC: 0.9988  VAL-LOSS: 0.0798 VAL-ACC: 0.9970 \n"
          ]
        },
        {
          "output_type": "stream",
          "name": "stderr",
          "text": [
            "100%|██████████| 50/50 [01:06<00:00,  1.34s/it]"
          ]
        },
        {
          "output_type": "stream",
          "name": "stdout",
          "text": [
            "EPOCH: 50/50 LOSS: 0.0419 ACC: 0.9989  VAL-LOSS: 0.0796 VAL-ACC: 0.9945 \n"
          ]
        },
        {
          "output_type": "stream",
          "name": "stderr",
          "text": [
            "\n"
          ]
        }
      ],
      "source": [
        "from torch import optim\n",
        "import torch.nn.functional as F\n",
        "\n",
        "model.to(dev)\n",
        "lr = 0.0001\n",
        "opt = optim.SGD(model.parameters(), lr=lr, momentum=0.9)\n",
        "epochs=50\n",
        "loss_func = F.cross_entropy\n",
        "\n",
        "fit(epochs, model, loss_func, opt, train_dl, valid_dl)"
      ],
      "id": "rLR9J294qmtS"
    },
    {
      "cell_type": "code",
      "source": [
        "from tqdm import tqdm\n",
        "def fit(epochs, model, loss_func, opt, train_dl, valid_dl):\n",
        "\n",
        "    for epoch in tqdm(range(epochs)):\n",
        "        \n",
        "        \n",
        "        # training process\n",
        "        model.train()\n",
        "\n",
        "        running_loss = 0.0\n",
        "        running_corrects = 0\n",
        "        sample_num=0\n",
        "        for xb, yb in train_dl:\n",
        "            \n",
        "            # forward\n",
        "            # backward and optimize only if in training phase\n",
        "            losses, corrects, nums = loss_batch(model, loss_func, xb, yb,opt)\n",
        "            \n",
        "            # statistics\n",
        "            running_loss += losses * xb.size(0)\n",
        "            running_corrects += corrects\n",
        "            sample_num+=nums\n",
        "            \n",
        "        train_loss = running_loss / sample_num\n",
        "        train_acc = running_corrects.double() / sample_num\n",
        "\n",
        "        \n",
        "        # validation process\n",
        "        model.eval()\n",
        "        with torch.no_grad():\n",
        "            running_loss = 0.0\n",
        "            running_corrects = 0\n",
        "            sample_num=0\n",
        "            for xb, yb in valid_dl:\n",
        "                \n",
        "                # forward\n",
        "                losses, corrects, nums = loss_batch(model, loss_func, xb, yb)\n",
        "                \n",
        "                # statistics\n",
        "                running_loss += losses * xb.size(0)\n",
        "                running_corrects += corrects\n",
        "                sample_num+=nums\n",
        "\n",
        "            val_loss = running_loss / sample_num\n",
        "            val_acc = running_corrects.double()/ sample_num\n",
        "            \n",
        "            \n",
        "        # print the results\n",
        "        print(\n",
        "            f'EPOCH: {epoch+1:0>{len(str(epochs))}}/{epochs}',\n",
        "            end=' '\n",
        "        )\n",
        "        print(f'LOSS: {train_loss:.4f}',f'ACC: {train_acc:.4f} ',end=' ')\n",
        "        print(f'VAL-LOSS: {val_loss:.4f}',f'VAL-ACC: {val_acc:.4f} ',end='\\n')\n",
        "\n",
        "   "
      ],
      "metadata": {
        "id": "m-zww_zKnBK-"
      },
      "id": "m-zww_zKnBK-",
      "execution_count": 191,
      "outputs": []
    },
    {
      "cell_type": "code",
      "source": [
        "\n",
        "def test(model, loss_func, opt, test_dl):\n",
        "\n",
        "        # test process\n",
        "        with torch.no_grad():\n",
        "            running_loss = 0.0\n",
        "            running_corrects = 0\n",
        "            sample_num=0\n",
        "            for xb, yb in test_dl:\n",
        "                \n",
        "                # forward\n",
        "                losses, corrects, nums = loss_batch(model, loss_func, xb, yb)\n",
        "                \n",
        "                # statistics\n",
        "                running_loss += losses * xb.size(0)\n",
        "                running_corrects += corrects\n",
        "                sample_num+=nums\n",
        "\n",
        "            test_acc = running_corrects.double()/ sample_num\n",
        "            \n",
        "            \n",
        "        print(f'TEST-ACC: {test_acc:.4f} ',end='\\n')\n",
        "\n",
        "   "
      ],
      "metadata": {
        "id": "42MVMyDbqYwq"
      },
      "id": "42MVMyDbqYwq",
      "execution_count": 198,
      "outputs": []
    },
    {
      "cell_type": "code",
      "source": [
        "test(model, loss_func, opt, test_dl)\n"
      ],
      "metadata": {
        "colab": {
          "base_uri": "https://localhost:8080/"
        },
        "id": "8CLxSH5fqgFz",
        "outputId": "f238a9c5-c4cb-4f60-95df-6848297e3de4"
      },
      "id": "8CLxSH5fqgFz",
      "execution_count": 199,
      "outputs": [
        {
          "output_type": "stream",
          "name": "stdout",
          "text": [
            "TEST-ACC: 0.9958 \n"
          ]
        }
      ]
    },
    {
      "cell_type": "markdown",
      "metadata": {
        "id": "06c5a8d4"
      },
      "source": [
        "## Task 1: Question 5d"
      ],
      "id": "06c5a8d4"
    },
    {
      "cell_type": "markdown",
      "metadata": {
        "id": "1e988bc2-6ba1-49cd-ae26-6feea8ad2776"
      },
      "source": [
        "# Task 2: Carpet Matching "
      ],
      "id": "1e988bc2-6ba1-49cd-ae26-6feea8ad2776"
    },
    {
      "cell_type": "code",
      "execution_count": 194,
      "metadata": {
        "cellView": "form",
        "id": "20a2ce3a-4c8c-4f1f-9a29-113063ce7f74",
        "colab": {
          "base_uri": "https://localhost:8080/"
        },
        "outputId": "81fcddbe-9c61-4a51-888a-6284136d4a8a"
      },
      "outputs": [
        {
          "output_type": "stream",
          "name": "stdout",
          "text": [
            "Carpet train shape: (15000, 1, 96, 60)\n",
            "Label train shape: (15000,)\n",
            "Ground truth test shape: (300,)\n",
            "Query carpets shape: (300, 1, 96, 60)\n",
            "Candidate carpets shape: (300, 4, 1, 96, 60)\n"
          ]
        }
      ],
      "source": [
        "#@title Standaard titeltekst\n",
        "# loading training and testing data for task 2\n",
        "# DO NOT MODIFY\n",
        "task2 = load_numpy_arr_from_url(\"https://github.com/vlamen/tue-deeplearning/blob/main/assignments/assignment_1/task2data.npz?raw=true\")\n",
        "# task2 = np.load('task2data.npz')\n",
        "\n",
        "X = task2['arr_0'].astype(float)\n",
        "y = task2['arr_1'].astype(float)\n",
        "gt = task2['arr_2'].astype(float) # ground truth\n",
        "queries = task2['arr_3'].astype(float)\n",
        "targets = task2['arr_4'].astype(float)\n",
        "\n",
        "print(f\"Carpet train shape: {X.shape}\")\n",
        "print(f\"Label train shape: {y.shape}\")\n",
        "print(f\"Ground truth test shape: {gt.shape}\")\n",
        "print(f\"Query carpets shape: {queries.shape}\")\n",
        "print(f\"Candidate carpets shape: {targets.shape}\")"
      ],
      "id": "20a2ce3a-4c8c-4f1f-9a29-113063ce7f74"
    },
    {
      "cell_type": "code",
      "execution_count": 195,
      "metadata": {
        "cellView": "form",
        "id": "fd0cc1db-e473-412e-b6b8-c95adc5438dd"
      },
      "outputs": [],
      "source": [
        "#@title Standaard titeltekst\n",
        "# function to determine performance of model\n",
        "def query_performance(queries, targets, gt, top=1):\n",
        "    assert top >= 1\n",
        "    cnt = 0\n",
        "    for i in range(gt.shape[0]):\n",
        "\n",
        "        q = queries[i][None].float().cuda()\n",
        "        t = targets[i].float().cuda()\n",
        "\n",
        "        with torch.no_grad():\n",
        "            \n",
        "            \n",
        "            ### MODIFY IF NECESSARY ###\n",
        "            emb_q = net(q).cpu().numpy()\n",
        "            emb_t = net(t).cpu().numpy()\n",
        "\n",
        "            dists = cdist(emb_q, emb_t)\n",
        "            \n",
        "            if top == 1:\n",
        "                pred = np.argmin(dists)\n",
        "\n",
        "                if pred == gt[i]:\n",
        "                    cnt += 1\n",
        "            \n",
        "            else:\n",
        "                pred = np.argsort(dists)\n",
        "                if gt[i] in pred[0,:top].tolist():\n",
        "                    cnt+=1\n",
        "    return (100*cnt/gt.shape[0])"
      ],
      "id": "fd0cc1db-e473-412e-b6b8-c95adc5438dd"
    },
    {
      "cell_type": "code",
      "execution_count": 196,
      "metadata": {
        "id": "f8c16073-7f5c-4bd4-9c11-c0a321736982"
      },
      "outputs": [],
      "source": [
        "###     YOUR CODE FOR TASK 2    ###\n",
        "### ADD MORE CELLS IF NECESSARY ###"
      ],
      "id": "f8c16073-7f5c-4bd4-9c11-c0a321736982"
    }
  ],
  "metadata": {
    "accelerator": "GPU",
    "colab": {
      "provenance": [],
      "gpuType": "T4"
    },
    "gpuClass": "standard",
    "kernelspec": {
      "display_name": "Python 3 (ipykernel)",
      "language": "python",
      "name": "python3"
    },
    "language_info": {
      "codemirror_mode": {
        "name": "ipython",
        "version": 3
      },
      "file_extension": ".py",
      "mimetype": "text/x-python",
      "name": "python",
      "nbconvert_exporter": "python",
      "pygments_lexer": "ipython3",
      "version": "3.9.13"
    }
  },
  "nbformat": 4,
  "nbformat_minor": 5
}